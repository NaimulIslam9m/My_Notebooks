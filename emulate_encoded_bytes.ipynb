{
 "cells": [
  {
   "cell_type": "code",
   "execution_count": 20,
   "metadata": {},
   "outputs": [],
   "source": [
    "import binascii\n",
    "import struct\n",
    "from unicorn import *\n",
    "from unicorn.x86_const import *\n",
    "from capstone import *"
   ]
  },
  {
   "cell_type": "code",
   "execution_count": 21,
   "metadata": {},
   "outputs": [],
   "source": [
    "encoded_bytes = binascii.unhexlify(''.join(['33', 'e1', 'c4', '99', '11', '06', '81', '16', 'f0', '32', '9f', 'c4', '91', '17', '06', '81', '14', 'f0', '06', '81', '15', 'f1', 'c4', '91', '1a', '06', '81', '1b', 'e2', '06', '81', '18', 'f2', '06', '81', '19', 'f1', '06', '81', '1e', 'f0', 'c4', '99', '1f', 'c4', '91', '1c', '06', '81', '1d', 'e6', '06', '81', '62', 'ef', '06', '81', '63', 'f2', '06', '81', '60', 'e3', 'c4', '99', '61', '06', '81', '66', 'bc', '06', '81', '67', 'e6', '06', '81', '64', 'e8', '06', '81', '65', '9d', '06', '81', '6a', 'f2', 'c4', '99', '6b', '06', '81', '68', 'a9', '06', '81', '69', 'ef', '06', '81', '6e', 'ee', '06', '81', '6f', 'ae', '06', '81', '6c', 'e3', '06', '81', '6d', 'ef', '06', '81', '72', 'e9', '06', '81', '73', '7c']))\n",
    "checksum_bytes = binascii.unhexlify(''.join(['55', '8b', 'ec', '51', '8b', '55', '0c', 'b9', 'ff', '00', '00', '00', '89', '4d', 'fc', '85', 'd2', '74', '51', '53', '8b', '5d', '08', '56', '57', '6a', '14', '58', '66', '8b', '7d', 'fc', '3b', 'd0', '8b', 'f2', '0f', '47', 'f0', '2b', 'd6', '0f', 'b6', '03', '66', '03', 'f8', '66', '89', '7d', 'fc', '03', '4d', 'fc', '43', '83', 'ee', '01', '75', 'ed', '0f', 'b6', '45', 'fc', '66', 'c1', 'ef', '08', '66', '03', 'c7', '0f', 'b7', 'c0', '89', '45', 'fc', '0f', 'b6', 'c1', '66', 'c1', 'e9', '08', '66', '03', 'c1', '0f', 'b7', 'c8', '6a', '14', '58', '85', 'd2', '75', 'bb', '5f', '5e', '5b', '0f', 'b6', '55', 'fc', '8b', 'c1', 'c1', 'e1', '08', '25', '00', 'ff', '00', '00', '03', 'c1', '66', '8b', '4d', 'fc', '66', 'c1', 'e9', '08', '66', '03', 'd1', '66', '0b', 'c2']))"
   ]
  },
  {
   "cell_type": "code",
   "execution_count": 22,
   "metadata": {},
   "outputs": [],
   "source": [
    "def get_decoded_bytes(i):\n",
    "    decoded_bytes = \"\"\n",
    "    for byte in encoded_bytes:\n",
    "        tmp_hex = hex(((byte ^ i) + 0x22) & 0xFF)\n",
    "        tmp_hex = tmp_hex[2:].zfill(2)\n",
    "        decoded_bytes += tmp_hex\n",
    "    return binascii.unhexlify(decoded_bytes)"
   ]
  },
  {
   "cell_type": "code",
   "execution_count": 23,
   "metadata": {},
   "outputs": [],
   "source": [
    "def get_checksum(decoded_bytes):\n",
    "    address = 0x000000\n",
    "    decoded_bytes_addr = 0x10000\n",
    "    stack_addr = 0x20000\n",
    "\n",
    "    emu = Uc(UC_ARCH_X86, UC_MODE_32)  #  initializes an x86 emulator in 32-bit mode\n",
    "    emu.mem_map(address, 2 * 1024 * 1024)  #  allocates 2MiB memory range\n",
    "    emu.mem_write(address, checksum_bytes) \n",
    "    emu.mem_write(decoded_bytes_addr, decoded_bytes)\n",
    "\n",
    "    emu.reg_write(UC_X86_REG_ESP, stack_addr)\n",
    "    # [stack_addr, stack_addr + 4] => return address\n",
    "    # [stack_addr + 4, stack_addr + 8] => decoded_bytes_addr\n",
    "    # [stack_addr + 8, stack_addr + 9] => 0x79\n",
    "    emu.mem_write(stack_addr + 4, struct.pack(\"<I\", decoded_bytes_addr))\n",
    "    emu.mem_write(stack_addr + 8, struct.pack(\"<B\", 0x79))\n",
    "\n",
    "    emu.emu_start(address, address + len(checksum_bytes))\n",
    "    checksum = emu.reg_read(UC_X86_REG_AX)\n",
    "\n",
    "    # emu.hook_add(UC_HOOK_MEM_READ, emu.mem_read)\n",
    "    # read_value = emu.mem_read(stack_addr, 16)\n",
    "    # print(read_value)\n",
    "\n",
    "    return checksum"
   ]
  },
  {
   "cell_type": "code",
   "execution_count": 30,
   "metadata": {},
   "outputs": [
    {
     "name": "stdout",
     "output_type": "stream",
     "text": [
      "162: 0xfb5e\n",
      "\n",
      "0\tmov\tbl, 0x65\n",
      "2\tmov\tbyte ptr [ebp - 0x2b], bl\n",
      "5\tmov\tbyte ptr [ebp - 0x2a], 0x74\n",
      "9\tmov\tdl, 0x5f\n",
      "11\tmov\tbyte ptr [ebp - 0x29], dl\n",
      "14\tmov\tbyte ptr [ebp - 0x28], 0x74\n",
      "18\tmov\tbyte ptr [ebp - 0x27], 0x75\n",
      "22\tmov\tbyte ptr [ebp - 0x26], dl\n",
      "25\tmov\tbyte ptr [ebp - 0x25], 0x62\n",
      "29\tmov\tbyte ptr [ebp - 0x24], 0x72\n",
      "33\tmov\tbyte ptr [ebp - 0x23], 0x75\n",
      "37\tmov\tbyte ptr [ebp - 0x22], 0x74\n",
      "41\tmov\tbyte ptr [ebp - 0x21], bl\n",
      "44\tmov\tbyte ptr [ebp - 0x20], dl\n",
      "47\tmov\tbyte ptr [ebp - 0x1f], 0x66\n",
      "51\tmov\tbyte ptr [ebp - 0x1e], 0x6f\n",
      "55\tmov\tbyte ptr [ebp - 0x1d], 0x72\n",
      "59\tmov\tbyte ptr [ebp - 0x1c], 0x63\n",
      "63\tmov\tbyte ptr [ebp - 0x1b], bl\n",
      "66\tmov\tbyte ptr [ebp - 0x1a], 0x40\n",
      "70\tmov\tbyte ptr [ebp - 0x19], 0x66\n",
      "74\tmov\tbyte ptr [ebp - 0x18], 0x6c\n",
      "78\tmov\tbyte ptr [ebp - 0x17], 0x61\n",
      "82\tmov\tbyte ptr [ebp - 0x16], 0x72\n",
      "86\tmov\tbyte ptr [ebp - 0x15], bl\n",
      "89\tmov\tbyte ptr [ebp - 0x14], 0x2d\n",
      "93\tmov\tbyte ptr [ebp - 0x13], 0x6f\n",
      "97\tmov\tbyte ptr [ebp - 0x12], 0x6e\n",
      "101\tmov\tbyte ptr [ebp - 0x11], 0x2e\n",
      "105\tmov\tbyte ptr [ebp - 0x10], 0x63\n",
      "109\tmov\tbyte ptr [ebp - 0xf], 0x6f\n",
      "113\tmov\tbyte ptr [ebp - 0xe], 0x6d\n",
      "117\tmov\tbyte ptr [ebp - 0xd], 0\n"
     ]
    }
   ],
   "source": [
    "for i in range(256):\n",
    "    decoded_bytes = get_decoded_bytes(i)\n",
    "    checksum = get_checksum(decoded_bytes)\n",
    "\n",
    "    if hex(checksum) == \"0xfb5e\":\n",
    "        print(f\"{i}: {hex(checksum)}\\n\")\n",
    "\n",
    "        # http://www.capstone-engine.org/lang_python.html\n",
    "        md = Cs(CS_ARCH_X86, CS_MODE_32)\n",
    "        for j in md.disasm(decoded_bytes, 0x0):\n",
    "            print(f\"{j.address}\\t{j.mnemonic}\\t{j.op_str}\")"
   ]
  },
  {
   "cell_type": "markdown",
   "metadata": {},
   "source": [
    "Unicorn: http://www.unicorn-engine.org/docs/\n",
    "\n",
    "Capstone: http://www.capstone-engine.org/lang_python.html"
   ]
  }
 ],
 "metadata": {
  "kernelspec": {
   "display_name": ".env",
   "language": "python",
   "name": "python3"
  },
  "language_info": {
   "codemirror_mode": {
    "name": "ipython",
    "version": 3
   },
   "file_extension": ".py",
   "mimetype": "text/x-python",
   "name": "python",
   "nbconvert_exporter": "python",
   "pygments_lexer": "ipython3",
   "version": "3.10.12"
  },
  "orig_nbformat": 4
 },
 "nbformat": 4,
 "nbformat_minor": 2
}
